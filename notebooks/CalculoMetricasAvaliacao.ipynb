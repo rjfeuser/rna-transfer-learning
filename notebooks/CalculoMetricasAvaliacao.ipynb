{
  "nbformat": 4,
  "nbformat_minor": 0,
  "metadata": {
    "colab": {
      "provenance": [],
      "authorship_tag": "ABX9TyNHnHHTOqWkShalv+pniDrj",
      "include_colab_link": true
    },
    "kernelspec": {
      "name": "python3",
      "display_name": "Python 3"
    },
    "language_info": {
      "name": "python"
    }
  },
  "cells": [
    {
      "cell_type": "markdown",
      "metadata": {
        "id": "view-in-github",
        "colab_type": "text"
      },
      "source": [
        "<a href=\"https://colab.research.google.com/github/rjfeuser/rna-transfer-learning/blob/main/notebooks/CalculoMetricasAvaliacao.ipynb\" target=\"_parent\"><img src=\"https://colab.research.google.com/assets/colab-badge.svg\" alt=\"Open In Colab\"/></a>"
      ]
    },
    {
      "cell_type": "code",
      "source": [
        "import numpy as np\n",
        "from sklearn.metrics import confusion_matrix, accuracy_score, recall_score, precision_score, f1_score"
      ],
      "metadata": {
        "id": "xkhPG1Qx1vCm"
      },
      "execution_count": 1,
      "outputs": []
    },
    {
      "cell_type": "code",
      "source": [
        "y_verdadeiro = np.array([0, 1, 1, 0, 1, 0, 1, 1, 0, 0])\n",
        "y_previsao =   np.array([0, 1, 0, 0, 1, 1, 1, 1, 0, 1])"
      ],
      "metadata": {
        "id": "Hel3scdJ1t5C"
      },
      "execution_count": 2,
      "outputs": []
    },
    {
      "cell_type": "code",
      "source": [
        "\n",
        "   \"\"\"\n",
        "    Calcula e exibe as métricas de desempenho de um modelo de machine learning.\n",
        "\n",
        "    Args:\n",
        "        y_verdadeiro (array-like): Rótulos verdadeiros (ground truth).\n",
        "        y_previsao (array-like): Rótulos previstos pelo modelo.\n",
        "\n",
        "    \"\"\"\n",
        " # Gerar a matriz de confusão\n",
        "cm = confusion_matrix(y_verdadeiro, y_previsao)\n",
        "tn, fp, fn, tp = cm.ravel()\n",
        "\n",
        "    # Exibir a matriz de confusão\n",
        "print(\"--- Matriz de Confusão ---\")\n",
        "print(cm)\n",
        "print(f\"\\nVerdadeiros Negativos (TN): {tn}\")\n",
        "print(f\"Falsos Positivos (FP): {fp}\")\n",
        "print(f\"Falsos Negativos (FN): {fn}\")\n",
        "print(f\"Verdadeiros Positivos (TP): {tp}\")\n",
        ""
      ],
      "metadata": {
        "colab": {
          "base_uri": "https://localhost:8080/"
        },
        "id": "QFpbficB1XWZ",
        "outputId": "077e528e-3b63-4e55-dd02-f6ba1a7808c3"
      },
      "execution_count": 3,
      "outputs": [
        {
          "output_type": "stream",
          "name": "stdout",
          "text": [
            "--- Matriz de Confusão ---\n",
            "[[3 2]\n",
            " [1 4]]\n",
            "\n",
            "Verdadeiros Negativos (TN): 3\n",
            "Falsos Positivos (FP): 2\n",
            "Falsos Negativos (FN): 1\n",
            "Verdadeiros Positivos (TP): 4\n"
          ]
        }
      ]
    },
    {
      "cell_type": "code",
      "execution_count": 4,
      "metadata": {
        "colab": {
          "base_uri": "https://localhost:8080/"
        },
        "id": "atX8DT1l1Q1N",
        "outputId": "a82850b0-6c2a-45ee-e8c6-905eaf8b9d05"
      },
      "outputs": [
        {
          "output_type": "stream",
          "name": "stdout",
          "text": [
            "\n",
            "--- Métricas de Desempenho ---\n",
            "Acurácia: 0.7000\n",
            "Sensibilidade (Recall): 0.8000\n",
            "Especificidade: 0.6000\n",
            "Precisão: 0.6667\n",
            "F-score: 0.7273\n"
          ]
        }
      ],
      "source": [
        " # Calcular as métricas\n",
        "acuracia = accuracy_score(y_verdadeiro, y_previsao)\n",
        "sensibilidade = recall_score(y_verdadeiro, y_previsao)\n",
        "precisao = precision_score(y_verdadeiro, y_previsao)\n",
        "f_score = f1_score(y_verdadeiro, y_previsao)\n",
        "\n",
        " # A especificidade precisa ser calculada manualmente\n",
        " # A fórmula é: TN / (TN + FP)\n",
        "especificidade = tn / (tn + fp) if (tn + fp) != 0 else 0\n",
        "\n",
        "# Exibir os resultados\n",
        "print(\"\\n--- Métricas de Desempenho ---\")\n",
        "print(f\"Acurácia: {acuracia:.4f}\")\n",
        "print(f\"Sensibilidade (Recall): {sensibilidade:.4f}\")\n",
        "print(f\"Especificidade: {especificidade:.4f}\")\n",
        "print(f\"Precisão: {precisao:.4f}\")\n",
        "print(f\"F-score: {f_score:.4f}\")"
      ]
    }
  ]
}